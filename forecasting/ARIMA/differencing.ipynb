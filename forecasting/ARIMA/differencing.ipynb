{
 "cells": [
  {
   "cell_type": "code",
   "execution_count": null,
   "metadata": {},
   "outputs": [],
   "source": [
    "# To create an ARIMA model, the data must be stationary. \n",
    "# here i use differencing to remove trends and ensure we meet this staiontariy assumption.\n",
    "import pandas as pd\n",
    "import matplotlib.pyplot as plt\n",
    "from statsmodels.tsa.stattools import adfuller\n",
    "\n",
    "\n",
    "# Load data\n",
    "df = pd.read_csv('data/data_raw.csv', parse_dates=['StartDateTime'], index_col='StartDateTime')\n",
    "df = df.asfreq('D')  # Ensure the data has a daily frequency if applicable\n",
    "\n",
    "# Extract the relevant series\n",
    "time_series = df['ISEM DA Price']"
   ]
  },
  {
   "cell_type": "code",
   "execution_count": null,
   "metadata": {},
   "outputs": [],
   "source": [
    "# Visual inspection of the original time series\n",
    "plt.figure(figsize=(12,6))\n",
    "plt.plot(time_series)\n",
    "plt.title('Original ISEM DA Price Time Series')\n",
    "plt.xlabel('Date')\n",
    "plt.ylabel('Price')\n",
    "plt.show()\n",
    "\n",
    "# ADF test on the original series\n",
    "result = adfuller(time_series.dropna())\n",
    "print('ADF Statistic: {:.6f}'.format(result[0]))\n",
    "print('p-value: {:.6f}'.format(result[1]))\n",
    "print('Critical Values:')\n",
    "for key, value in result[4].items():\n",
    "    print('   {}: {:.3f}'.format(key, value))"
   ]
  },
  {
   "cell_type": "code",
   "execution_count": null,
   "metadata": {},
   "outputs": [],
   "source": [
    "# differencing iterations\n",
    "\n",
    "max_diff_order = 2  # Set the maximum differencing order you want to test\n",
    "\n",
    "for d in range(1, max_diff_order + 1):\n",
    "    print(f'\\n### Differencing Order: {d} ###')\n",
    "    \n",
    "    # Apply differencing\n",
    "    diff_series = time_series.diff(d)\n",
    "    \n",
    "    # Drop NaN values introduced by differencing\n",
    "    diff_series = diff_series.dropna()\n",
    "    \n",
    "    # Plot the differenced series\n",
    "    plt.figure(figsize=(12,6))\n",
    "    plt.plot(diff_series)\n",
    "    plt.title(f'ISEM DA Price Time Series Differenced by Order {d}')\n",
    "    plt.xlabel('Date')\n",
    "    plt.ylabel('Differenced Price')\n",
    "    plt.show()\n",
    "    \n",
    "    # Perform the ADF test on the differenced series\n",
    "    result_diff = adfuller(diff_series)\n",
    "    print('ADF Statistic: {:.6f}'.format(result_diff[0]))\n",
    "    print('p-value: {:.6f}'.format(result_diff[1]))\n",
    "    print('Critical Values:')\n",
    "    for key, value in result_diff[4].items():\n",
    "        print('   {}: {:.3f}'.format(key, value))\n"
   ]
  }
 ],
 "metadata": {
  "kernelspec": {
   "display_name": "base",
   "language": "python",
   "name": "python3"
  },
  "language_info": {
   "codemirror_mode": {
    "name": "ipython",
    "version": 3
   },
   "file_extension": ".py",
   "mimetype": "text/x-python",
   "name": "python",
   "nbconvert_exporter": "python",
   "pygments_lexer": "ipython3",
   "version": "3.11.5"
  }
 },
 "nbformat": 4,
 "nbformat_minor": 2
}
