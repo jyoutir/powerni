{
 "cells": [
  {
   "cell_type": "code",
   "execution_count": null,
   "metadata": {},
   "outputs": [],
   "source": [
    "# here i aim to select values of p and q that best match the autoregressive (AR) and moving average (MA) orders.\n",
    "\n",
    "# Partial Autocorrelation Function (PACF): Helps you identify the AR (p) order. \n",
    "# peaks outside the  bounds in the PACF plot suggest the lag order for the AR term.\n",
    "\n",
    "# Autocorrelation Function (ACF):  identify the MA (q) order. \n",
    "#  lags in the ACF plot suggest the lag order for the MA term."
   ]
  },
  {
   "cell_type": "code",
   "execution_count": null,
   "metadata": {},
   "outputs": [],
   "source": [
    "import pandas as pd\n",
    "from statsmodels.tsa.arima.model import ARIMA\n",
    "import matplotlib.pyplot as plt\n",
    "import pmdarima as pm\n",
    "from statsmodels.graphics.tsaplots import plot_acf, plot_pacf"
   ]
  },
  {
   "cell_type": "code",
   "execution_count": null,
   "metadata": {},
   "outputs": [],
   "source": [
    "# load data and convert to time series -- both isem_original and isem_diff_1 meet stationarity assumptions so it is safe to use either.\n",
    "df = pd.read_csv('data/arima/isem_original.csv')\n",
    "df['StartDateTime'] = pd.to_datetime(df['StartDateTime'])\n",
    "df.set_index('StartDateTime', inplace=True)\n",
    "\n",
    "# test loading using dis \n",
    "# print(df.head())\n"
   ]
  },
  {
   "cell_type": "code",
   "execution_count": null,
   "metadata": {},
   "outputs": [],
   "source": [
    "# plot the acf and pacf to visualise possible values for p and q.\n",
    "\n",
    "# however, we can find these values automatically by testing all possible combinations and \n",
    "# selecting the best one. this is what we do later using pmdarima, but this block is still useful as a nice-to-have as it visualisees WHY \n",
    "# auto-arima selects ARIMA(2, 0, 1) -- p = 2, d = 0, q = 1 \n",
    "\n",
    "fig, ax = plt.subplots(1,2, figsize=(15,5))\n",
    "\n",
    "# ACF plot\n",
    "plot_acf(df['ISEM DA Price'], ax=ax[0], lags=40)\n",
    "ax[0].set_title('Autocorrelation Function (ACF)')\n",
    "\n",
    "# PACF plot\n",
    "plot_pacf(df['ISEM DA Price'], ax=ax[1], lags=40, method='ywm')\n",
    "ax[1].set_title('Partial Autocorrelation Function (PACF)')\n",
    "\n",
    "plt.tight_layout()\n",
    "plt.show()"
   ]
  },
  {
   "cell_type": "code",
   "execution_count": null,
   "metadata": {},
   "outputs": [],
   "source": [
    "# 1. Split data into train and test sets (80-20 split)\n",
    "# Fit auto_arima model\n",
    "model = pm.auto_arima(df['ISEM DA Price'],\n",
    "                     start_p=0, max_p=5,    # maximum p value to try\n",
    "                     start_q=0, max_q=5,    # maximum q value to try\n",
    "                     d=0,                   # d=0 since data is already differenced\n",
    "                     seasonal=False,         # no seasonal component\n",
    "                     trace=True,            # print model AIC results\n",
    "                     error_action='ignore',  # ignore convergence errors\n",
    "                     suppress_warnings=True,\n",
    "                     stepwise=True)         # use stepwise search\n",
    "\n",
    "# Print the best model's order\n",
    "print(\"\\nBest ARIMA order:\", model.order)\n",
    "\n",
    "# Get model summary\n",
    "print(model.summary())\n",
    "\n",
    "# Make predictions (same as before)\n",
    "train_size = int(len(df) * 0.9)\n",
    "train = df[:train_size]\n",
    "test = df[train_size:]\n",
    "\n",
    "predictions = model.predict(n_periods=len(test))\n",
    "\n",
    "# Plot results\n",
    "import matplotlib.pyplot as plt\n",
    "import numpy as np\n",
    "\n",
    "plt.figure(figsize=(12,6))\n",
    "plt.plot(train.index, train['ISEM DA Price'], label='Training Data')\n",
    "plt.plot(test.index, test['ISEM DA Price'], label='Actual Test Data')\n",
    "plt.plot(test.index, predictions, label='Predictions', color='red')\n",
    "plt.title('Auto ARIMA Model: Actual vs Predicted')\n",
    "plt.xlabel('Date')\n",
    "plt.ylabel('Price')\n",
    "plt.legend()\n",
    "plt.grid(True)\n",
    "plt.show()\n",
    "\n",
    "# Calculate error metrics\n",
    "from sklearn.metrics import mean_squared_error, mean_absolute_error\n",
    "\n",
    "rmse = np.sqrt(mean_squared_error(test['ISEM DA Price'], predictions))\n",
    "mae = mean_absolute_error(test['ISEM DA Price'], predictions)\n",
    "print(f'Root Mean Squared Error (RMSE): {rmse}')\n",
    "print(f'Mean Absolute Error (MAE): {mae}')\n"
   ]
  }
 ],
 "metadata": {
  "kernelspec": {
   "display_name": "base",
   "language": "python",
   "name": "python3"
  },
  "language_info": {
   "codemirror_mode": {
    "name": "ipython",
    "version": 3
   },
   "file_extension": ".py",
   "mimetype": "text/x-python",
   "name": "python",
   "nbconvert_exporter": "python",
   "pygments_lexer": "ipython3",
   "version": "3.11.5"
  }
 },
 "nbformat": 4,
 "nbformat_minor": 2
}
