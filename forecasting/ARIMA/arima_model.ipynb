{
 "cells": [
  {
   "cell_type": "code",
   "execution_count": null,
   "metadata": {},
   "outputs": [],
   "source": [
    "# here we run auto-ARIMA which auto selects values of p and q that best match the autoregressive (AR) and moving average (MA) orders.\n",
    "\n",
    "# then we do validation checks to make sure the auto-ARIMA model isnt giving us bs. \n",
    "\n",
    "# Partial Autocorrelation Function (PACF): Helps you identify the AR (p) order. \n",
    "# peaks outside the  bounds in the PACF plot suggest the lag order for the AR term.\n",
    "\n",
    "# Autocorrelation Function (ACF):  identify the MA (q) order. \n",
    "#  lags in the ACF plot suggest the lag order for the MA term."
   ]
  },
  {
   "cell_type": "code",
   "execution_count": null,
   "metadata": {},
   "outputs": [],
   "source": [
    "import pandas as pd\n",
    "import matplotlib.pyplot as plt\n",
    "import pmdarima as pm\n",
    "from statsmodels.graphics.tsaplots import plot_acf, plot_pacf\n",
    "from sklearn.metrics import mean_squared_error, mean_absolute_error\n",
    "import scipy.stats as stats\n",
    "import numpy as np\n",
    "from statsmodels.tsa.stattools import adfuller  \n",
    "\n",
    "\n",
    "# load data and convert to time series -- both isem_original and isem_diff_1 meet stationarity assumptions so it is safe to use either.\n",
    "df = pd.read_csv('data/arima/isem_original.csv')\n",
    "df['StartDateTime'] = pd.to_datetime(df['StartDateTime'])\n",
    "df.set_index('StartDateTime', inplace=True)\n",
    "\n",
    "# test loading using dis \n",
    "# print(df.head())\n"
   ]
  },
  {
   "cell_type": "markdown",
   "metadata": {},
   "source": [
    "### fitting a auto-arima model"
   ]
  },
  {
   "cell_type": "code",
   "execution_count": null,
   "metadata": {},
   "outputs": [],
   "source": [
    "# FITTING THE AUTO-ARIMA MODEL!\n",
    "# note: we use d = 0 here as we already figured that isem_original follows stationarity\n",
    "\n",
    "# Split data into train and test\n",
    "train_size = int(len(df) * 0.8)\n",
    "train = df.iloc[:train_size]\n",
    "test = df.iloc[train_size:]\n",
    "\n",
    "# Fit the model on training data\n",
    "model = pm.auto_arima(train['ISEM DA Price'],\n",
    "    start_p=0, max_p=5,\n",
    "    start_q=0, max_q=5,\n",
    "    start_d=0, max_d=2,  # Try d values from 0 to 2\n",
    "    test='adf',          # Use ADF test to determine d\n",
    "    seasonal=False,\n",
    "    trace=True,\n",
    "    error_action='ignore',\n",
    "    suppress_warnings=True,\n",
    "    stepwise=True,\n",
    "    information_criterion='aic')  # You can also use 'bic' or 'aicc'\n",
    "\n",
    "print(\"\\nBest ARIMA order:\", model.order)\n",
    "print(model.summary())\n",
    "\n",
    "# Make predictions\n",
    "predictions = model.predict(n_periods=len(test))\n",
    "\n",
    "# Check for NaNs and infinite values in predictions\n",
    "print(\"Number of NaNs in predictions:\", np.isnan(predictions).sum())\n",
    "print(\"Number of infinite values in predictions:\", np.isinf(predictions).sum())\n",
    "\n",
    "# Create a Series with the correct index\n",
    "predictions = pd.Series(predictions, index=test.index)\n",
    "\n",
    "# Plot results\n",
    "plt.figure(figsize=(12,6))\n",
    "plt.plot(train.index, train['ISEM DA Price'], label='Training Data')\n",
    "plt.plot(test.index, test['ISEM DA Price'], label='Actual Test Data')\n",
    "plt.plot(test.index, predictions, label='Predictions', color='red')\n",
    "plt.title('Auto ARIMA Model: Actual vs Predicted')\n",
    "plt.xlabel('Date')\n",
    "plt.ylabel('Price')\n",
    "plt.legend()\n",
    "plt.grid(True)\n",
    "plt.show()\n"
   ]
  },
  {
   "cell_type": "markdown",
   "metadata": {},
   "source": [
    "### validation"
   ]
  },
  {
   "cell_type": "code",
   "execution_count": null,
   "metadata": {},
   "outputs": [],
   "source": [
    "# ================== VALIDATION SECTION ==================\n",
    "\n",
    "print(\"Number of NaNs in data:\", df['ISEM DA Price'].isna().sum())\n",
    "print(\"Number of infinite values in data:\", np.isinf(df['ISEM DA Price']).sum())\n",
    "df = df[np.isfinite(df['ISEM DA Price'])]\n",
    "\n",
    "# 1. Residual Analysis\n",
    "residuals = test['ISEM DA Price'] - predictions\n",
    "\n",
    "# Plot ACF and PACF of residuals\n",
    "plt.figure(figsize=(12, 8))\n",
    "plt.subplot(211)\n",
    "plot_acf(residuals, ax=plt.gca(), title='ACF of Residuals')\n",
    "plt.subplot(212)\n",
    "plot_pacf(residuals, ax=plt.gca(), title='PACF of Residuals')\n",
    "plt.tight_layout()\n",
    "plt.show()\n",
    "\n",
    "# 2. Stationarity Test on Residuals\n",
    "adf_test = adfuller(residuals)  # Use adfuller from statsmodels.tsa.stattools\n",
    "print(\"\\nADF Test Results for Residuals:\")\n",
    "print(f'ADF Statistic: {adf_test[0]}')\n",
    "print(f'p-value: {adf_test[1]}')\n",
    "print('Critical values:')\n",
    "for key, value in adf_test[4].items():\n",
    "    print(f'\\t{key}: {value}')\n",
    "\n",
    "# 3. Forecast Accuracy Metrics\n",
    "rmse = np.sqrt(mean_squared_error(test['ISEM DA Price'], predictions))\n",
    "mae = mean_absolute_error(test['ISEM DA Price'], predictions)\n",
    "mape = np.mean(np.abs((test['ISEM DA Price'] - predictions) / test['ISEM DA Price'])) * 100\n",
    "\n",
    "print(\"\\nForecast Accuracy Metrics:\")\n",
    "print(f'RMSE: {rmse:.2f}')\n",
    "print(f'MAE: {mae:.2f}')\n",
    "print(f'MAPE: {mape:.2f}%')\n",
    "\n",
    "# Optional: Q-Q plot for residuals normality check\n",
    "plt.figure(figsize=(10,6))\n",
    "stats.probplot(residuals, dist=\"norm\", plot=plt)\n",
    "plt.title(\"Q-Q plot of residuals\")\n",
    "plt.show()\n",
    "\n",
    "# Optional: Histogram of residuals\n",
    "plt.figure(figsize=(10,6))\n",
    "plt.hist(residuals, bins=50, density=True)\n",
    "plt.title(\"Histogram of Residuals\")\n",
    "plt.xlabel(\"Residual Value\")\n",
    "plt.ylabel(\"Frequency\")\n",
    "plt.show()"
   ]
  },
  {
   "cell_type": "markdown",
   "metadata": {},
   "source": [
    "#### ARIMA model evaluation summary\n",
    "\n",
    "After running the above code with an *80% training – 20% test split* and validating the results, we can conclude the following:\n",
    "\n",
    "- The **residuals are stationary** (ADF test statistic is very negative, p-value ≈ 0), meaning captures trend wel  and is still stationary\n",
    "- The **ACF/PACF of residuals** show no significant spikes, meaning no obvious leftover patterns   - a good sign. \n",
    "- **RMSE = 40, MAE = 31**, mean the forecast still has some error. On average, MAE being 31 means predictions are off by **31 euros**, so while the model is reasonable, it's not perfect \n",
    " \n",
    "\n",
    "all in all, this confirms out goal to build a bunch of forecasting models that are just parts of a trader’s toolkit that all work decently, giving flexibility across different market conditions"
   ]
  }
 ],
 "metadata": {
  "kernelspec": {
   "display_name": "base",
   "language": "python",
   "name": "python3"
  },
  "language_info": {
   "codemirror_mode": {
    "name": "ipython",
    "version": 3
   },
   "file_extension": ".py",
   "mimetype": "text/x-python",
   "name": "python",
   "nbconvert_exporter": "python",
   "pygments_lexer": "ipython3",
   "version": "3.11.5"
  }
 },
 "nbformat": 4,
 "nbformat_minor": 2
}
